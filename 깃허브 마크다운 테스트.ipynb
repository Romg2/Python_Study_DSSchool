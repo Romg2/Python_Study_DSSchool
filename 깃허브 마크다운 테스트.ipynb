{
 "cells": [
  {
   "cell_type": "markdown",
   "metadata": {},
   "source": [
    "$n$개의 관측값을 가지는 $i$번째 독립변수 $x_i$는 다음과 같이 벡터로 표현가능하다. [$n$ x $1$]\n",
    "\n",
    "$\n",
    "x_i =\n",
    "\\begin{bmatrix}\n",
    "x_{i1} \\\\ x_{i2} \\\\ \\vdots \\\\ x_{in}\n",
    "\\end{bmatrix}\n",
    "$\n",
    "\n",
    "$\\newline$\n",
    "$n$개의 관측값을 가지고 $p$개의 독립변수를 가지는 행렬 $X$는 다음과 같다. [절편 포함: $n$ x $(p+1)$] \n",
    "\n",
    "$\n",
    "X =\n",
    "\\begin{bmatrix}\n",
    "1 & x_1 & x_2 & \\cdots & x_p\n",
    "\\end{bmatrix}\n",
    "\\ = \n",
    "\\begin{bmatrix}\n",
    "1 & x_{11} & x_{21} & \\cdots & x_{p1} \\\\\n",
    "1 & x_{12} & x_{22} & \\cdots & x_{p2} \\\\\n",
    "\\vdots & \\vdots & \\vdots & \\vdots & \\vdots \\\\\n",
    "1 & x_{1n} & x_{2n} & \\cdots & x_{pn} \\\\\n",
    "\\end{bmatrix}\n",
    "$\n",
    "\n",
    "$\\newline$\n",
    "회귀계수 $\\beta$ [($p+1$) x 1], 오차 $\\epsilon$ [$n$ x 1], 종속변수 $Y$ [$n$ x 1]는 다음과 같다. \n",
    "\n",
    "$\n",
    "\\beta =\n",
    "\\begin{bmatrix}\n",
    "\\beta_{0} \\\\ \\beta_{1} \\\\ \\vdots \\\\ \\beta_{p}\n",
    "\\end{bmatrix}\n",
    ", \\quad \n",
    "\\epsilon =\n",
    "\\begin{bmatrix}\n",
    "\\epsilon_{0} \\\\ \\epsilon_{1} \\\\ \\vdots \\\\ \\epsilon_{n}\n",
    "\\end{bmatrix}\n",
    ", \\quad \n",
    "Y =\n",
    "\\begin{bmatrix}\n",
    "y_{0} \\\\ y_{1} \\\\ \\vdots \\\\ y_{n}\n",
    "\\end{bmatrix}\n",
    "= X\\beta + \\epsilon\n",
    "$"
   ]
  },
  {
   "cell_type": "code",
   "execution_count": null,
   "metadata": {},
   "outputs": [],
   "source": []
  }
 ],
 "metadata": {
  "kernelspec": {
   "display_name": "Python 3",
   "language": "python",
   "name": "python3"
  },
  "language_info": {
   "codemirror_mode": {
    "name": "ipython",
    "version": 3
   },
   "file_extension": ".py",
   "mimetype": "text/x-python",
   "name": "python",
   "nbconvert_exporter": "python",
   "pygments_lexer": "ipython3",
   "version": "3.8.5"
  },
  "toc": {
   "base_numbering": 1,
   "nav_menu": {},
   "number_sections": true,
   "sideBar": true,
   "skip_h1_title": false,
   "title_cell": "Table of Contents",
   "title_sidebar": "Contents",
   "toc_cell": false,
   "toc_position": {},
   "toc_section_display": true,
   "toc_window_display": false
  }
 },
 "nbformat": 4,
 "nbformat_minor": 4
}
