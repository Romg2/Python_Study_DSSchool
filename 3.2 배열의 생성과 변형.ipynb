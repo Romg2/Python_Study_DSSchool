{
 "cells": [
  {
   "cell_type": "markdown",
   "metadata": {},
   "source": [
    "# 3.2 배열의 생성과 변형"
   ]
  },
  {
   "cell_type": "markdown",
   "metadata": {},
   "source": [
    "# 넘파이의 자료형"
   ]
  },
  {
   "cell_type": "code",
   "execution_count": 1,
   "metadata": {},
   "outputs": [],
   "source": [
    "import numpy as np"
   ]
  },
  {
   "cell_type": "code",
   "execution_count": 2,
   "metadata": {},
   "outputs": [
    {
     "name": "stdout",
     "output_type": "stream",
     "text": [
      "int32\n",
      "float64\n"
     ]
    }
   ],
   "source": [
    "# dtype을 이용해 자료형태 확인\n",
    "x = np.array([0,1,2])\n",
    "\n",
    "print(x.dtype)\n",
    "\n",
    "# 배열 생성시 자료형태를 지정하지 않으면 자동으로 유추\n",
    "x = np.array([0,1,2.0])\n",
    "\n",
    "print(x.dtype)"
   ]
  },
  {
   "cell_type": "markdown",
   "metadata": {},
   "source": [
    "# dtype 종류"
   ]
  },
  {
   "cell_type": "markdown",
   "metadata": {},
   "source": [
    "| dtype 접두사 | 설명 | 사용 예 |\n",
    "|-|-|-|\n",
    "| `b` | 불리언 | `b` (참 혹은 거짓) | \n",
    "| `i` | 정수 | `i8` (64비트) | \n",
    "| `u` | 부호 없는 정수 | `u8` (64비트) | \n",
    "| `f` | 부동소수점 | `f8` (64비트) | \n",
    "| `c` | 복소 부동소수점 | `c16` (128비트) | \n",
    "| `O` | 객체 | `0` (객체에 대한 포인터) | \n",
    "| `S` | 바이트 문자열 | `S24` (24 글자) | \n",
    "| `U` | 유니코드 문자열 | `U24` (24 유니코드 글자) | "
   ]
  },
  {
   "cell_type": "code",
   "execution_count": 3,
   "metadata": {},
   "outputs": [
    {
     "name": "stdout",
     "output_type": "stream",
     "text": [
      "3.0\n",
      "12\n"
     ]
    }
   ],
   "source": [
    "x = np.array([1,2,3], dtype = 'f')\n",
    "\n",
    "print(x[0] + x[1])\n",
    "\n",
    "x = np.array([1,2,3], dtype = 'U')\n",
    "\n",
    "print(x[0] + x[1])"
   ]
  },
  {
   "cell_type": "markdown",
   "metadata": {},
   "source": [
    "# Inf와 NaN"
   ]
  },
  {
   "cell_type": "code",
   "execution_count": 4,
   "metadata": {},
   "outputs": [
    {
     "name": "stderr",
     "output_type": "stream",
     "text": [
      "<ipython-input-4-6ab12ec6e7a4>:1: RuntimeWarning: divide by zero encountered in true_divide\n",
      "  np.array([0, 1, -1, 0]) / np.array([1, 0, 0, 0])\n",
      "<ipython-input-4-6ab12ec6e7a4>:1: RuntimeWarning: invalid value encountered in true_divide\n",
      "  np.array([0, 1, -1, 0]) / np.array([1, 0, 0, 0])\n"
     ]
    },
    {
     "data": {
      "text/plain": [
       "array([  0.,  inf, -inf,  nan])"
      ]
     },
     "execution_count": 4,
     "metadata": {},
     "output_type": "execute_result"
    }
   ],
   "source": [
    "np.array([0, 1, -1, 0]) / np.array([1, 0, 0, 0])"
   ]
  },
  {
   "cell_type": "code",
   "execution_count": 5,
   "metadata": {},
   "outputs": [
    {
     "name": "stdout",
     "output_type": "stream",
     "text": [
      "-inf\n",
      "0.0\n"
     ]
    },
    {
     "name": "stderr",
     "output_type": "stream",
     "text": [
      "<ipython-input-5-0d5d201f1928>:1: RuntimeWarning: divide by zero encountered in log\n",
      "  print(np.log(0))\n"
     ]
    }
   ],
   "source": [
    "print(np.log(0))\n",
    "print(np.exp(-np.inf))"
   ]
  },
  {
   "cell_type": "markdown",
   "metadata": {},
   "source": [
    "# 배열 생성"
   ]
  },
  {
   "cell_type": "code",
   "execution_count": 6,
   "metadata": {},
   "outputs": [
    {
     "name": "stdout",
     "output_type": "stream",
     "text": [
      "[0. 0. 0. 0. 0.]\n",
      "[[0. 0.]\n",
      " [0. 0.]]\n",
      "[1. 1. 1. 1. 1.]\n",
      "[[1. 1.]\n",
      " [1. 1.]]\n"
     ]
    }
   ],
   "source": [
    "# 모든 값이 0인 행렬\n",
    "z1 = np.zeros(5)\n",
    "z2 = np.zeros((2,2))\n",
    "\n",
    "print(z1)\n",
    "print(z2)\n",
    "\n",
    "# 모든 값이 1인 행렬\n",
    "o1 = np.ones(5)\n",
    "o2 = np.ones((2,2))\n",
    "\n",
    "print(o1)\n",
    "print(o2)"
   ]
  },
  {
   "cell_type": "code",
   "execution_count": 7,
   "metadata": {},
   "outputs": [
    {
     "data": {
      "text/plain": [
       "array([[0, 0],\n",
       "       [0, 0],\n",
       "       [0, 0],\n",
       "       [0, 0],\n",
       "       [0, 0]], dtype=int32)"
      ]
     },
     "execution_count": 7,
     "metadata": {},
     "output_type": "execute_result"
    }
   ],
   "source": [
    "# 자료형 지정 가능\n",
    "z = np.zeros((5, 2), dtype=\"i\")\n",
    "z"
   ]
  },
  {
   "cell_type": "code",
   "execution_count": 8,
   "metadata": {},
   "outputs": [
    {
     "name": "stdout",
     "output_type": "stream",
     "text": [
      "['a' 'abcd' 'abcd' '' '']\n"
     ]
    }
   ],
   "source": [
    "# 문자로 지정시 크기에 유의\n",
    "z = np.zeros(5, dtype=\"U4\")\n",
    "\n",
    "z[0] = \"a\"\n",
    "z[1] = \"abcd\"\n",
    "z[2] = \"abcde\" # 짤려서 나옴\n",
    "\n",
    "print(z)"
   ]
  },
  {
   "cell_type": "code",
   "execution_count": 9,
   "metadata": {},
   "outputs": [
    {
     "data": {
      "text/plain": [
       "array([1., 1., 1., 1., 1.], dtype=float32)"
      ]
     },
     "execution_count": 9,
     "metadata": {},
     "output_type": "execute_result"
    }
   ],
   "source": [
    "# 다른 배열과 같은 크기로 생성하기\n",
    "z = np.zeros(5)\n",
    "o = np.ones_like(z, dtype= \"f\")\n",
    "o"
   ]
  },
  {
   "cell_type": "code",
   "execution_count": 10,
   "metadata": {},
   "outputs": [
    {
     "data": {
      "text/plain": [
       "array([[1., 1.],\n",
       "       [1., 1.]])"
      ]
     },
     "execution_count": 10,
     "metadata": {},
     "output_type": "execute_result"
    }
   ],
   "source": [
    "# empty: 배열을 생성만 하고 값은 초기화 하지 않음 (가장 빠른 속도)\n",
    "e = np.empty((2, 2))\n",
    "e"
   ]
  },
  {
   "cell_type": "code",
   "execution_count": 11,
   "metadata": {},
   "outputs": [
    {
     "name": "stdout",
     "output_type": "stream",
     "text": [
      "[0 1 2 3 4]\n",
      "[1 3 5 7 9]\n"
     ]
    }
   ],
   "source": [
    "# np.arange: 리스트의 range 역할\n",
    "print(np.arange(5))\n",
    "\n",
    "# np.arange(시작, 끝, 단계)\n",
    "print(np.arange(1,11,2))"
   ]
  },
  {
   "cell_type": "code",
   "execution_count": 12,
   "metadata": {},
   "outputs": [
    {
     "name": "stdout",
     "output_type": "stream",
     "text": [
      "[ 1.  4.  7. 10.]\n",
      "[ 1.25892541  2.51188643  5.01187234 10.        ]\n"
     ]
    }
   ],
   "source": [
    "# linsapce(시작, 끝(포함), 나눌 수)\n",
    "print(np.linspace(1,10,4))\n",
    "\n",
    "# logspace(시작, 끝(포함), 나눌 수)\n",
    "print(np.logspace(0.1,1,4)) # 10**0.1 ~ 10"
   ]
  },
  {
   "cell_type": "markdown",
   "metadata": {},
   "source": [
    "# 전치 연산"
   ]
  },
  {
   "cell_type": "code",
   "execution_count": 13,
   "metadata": {},
   "outputs": [
    {
     "name": "stdout",
     "output_type": "stream",
     "text": [
      "[[0 1 2]\n",
      " [3 4 5]]\n",
      "[[0 3]\n",
      " [1 4]\n",
      " [2 5]]\n"
     ]
    }
   ],
   "source": [
    "M = np.array([[0,1,2],\n",
    "              [3,4,5]])\n",
    "print(M) # 2 x 3\n",
    "print(M.T) # 3 x 2"
   ]
  },
  {
   "cell_type": "markdown",
   "metadata": {},
   "source": [
    "# 배열의 크기 변형"
   ]
  },
  {
   "cell_type": "code",
   "execution_count": 14,
   "metadata": {},
   "outputs": [
    {
     "name": "stdout",
     "output_type": "stream",
     "text": [
      "[[ 0  1  2  3]\n",
      " [ 4  5  6  7]\n",
      " [ 8  9 10 11]]\n",
      "[[[ 0  1  2]\n",
      "  [ 3  4  5]]\n",
      "\n",
      " [[ 6  7  8]\n",
      "  [ 9 10 11]]]\n",
      "[[ 0  1  2  3  4  5]\n",
      " [ 6  7  8  9 10 11]]\n"
     ]
    }
   ],
   "source": [
    "x = np.arange(12)\n",
    "\n",
    "# 2차원으로 변환\n",
    "x2 = x.reshape(3,4)\n",
    "print(x2)\n",
    "\n",
    "# 3차원으로 변환\n",
    "x3 = x.reshape(2,2,3)\n",
    "print(x3)\n",
    "\n",
    "# -1을 이용하여 자동으로 지정\n",
    "x4 = x.reshape(2,-1)\n",
    "print(x4)"
   ]
  },
  {
   "cell_type": "code",
   "execution_count": 15,
   "metadata": {},
   "outputs": [
    {
     "name": "stdout",
     "output_type": "stream",
     "text": [
      "[ 0  1  2  3  4  5  6  7  8  9 10 11]\n",
      "[[ 0  1  2]\n",
      " [ 3  4  5]\n",
      " [ 6  7  8]\n",
      " [ 9 10 11]]\n",
      "[ 0  1  2  3  4  5  6  7  8  9 10 11]\n",
      "[ 0  1  2  3  4  5  6  7  8  9 10 11]\n"
     ]
    }
   ],
   "source": [
    "# 무조건 1차원으로 배열 만들기 - flatten, ravel\n",
    "x = np.arange(12)\n",
    "x2 = x.reshape(4,3)\n",
    "x3 = x2.flatten()\n",
    "x4 = x2.ravel()\n",
    "\n",
    "print(x)\n",
    "print(x2)\n",
    "print(x3)\n",
    "print(x4)"
   ]
  },
  {
   "cell_type": "code",
   "execution_count": 16,
   "metadata": {},
   "outputs": [
    {
     "name": "stdout",
     "output_type": "stream",
     "text": [
      "[0 1 2] 차원: 1\n",
      "[[0 1 2]] 차원: 2\n"
     ]
    }
   ],
   "source": [
    "# 차원 확인하기\n",
    "# 같은 데이터여도 1차원과 2차원은 확실히 다른 객체\n",
    "x = np.arange(3)\n",
    "x2 = x.reshape(1,3)\n",
    "\n",
    "print(x, \"차원:\", x.ndim)\n",
    "print(x2, \"차원:\", x2.ndim)"
   ]
  },
  {
   "cell_type": "code",
   "execution_count": 17,
   "metadata": {},
   "outputs": [
    {
     "name": "stdout",
     "output_type": "stream",
     "text": [
      "[[0]\n",
      " [1]\n",
      " [2]]\n",
      "[[0 1 2]]\n"
     ]
    }
   ],
   "source": [
    "# 1차원 증가시키기 - newaxis\n",
    "x = np.arange(3)\n",
    "print(x[:, np.newaxis])\n",
    "print(x[np.newaxis, :])"
   ]
  },
  {
   "cell_type": "markdown",
   "metadata": {},
   "source": [
    "# 배열 연결"
   ]
  },
  {
   "cell_type": "code",
   "execution_count": 18,
   "metadata": {},
   "outputs": [
    {
     "data": {
      "text/plain": [
       "array([[0., 0., 0., 1., 1., 1., 1., 1.],\n",
       "       [0., 0., 0., 1., 1., 1., 1., 1.]])"
      ]
     },
     "execution_count": 18,
     "metadata": {},
     "output_type": "execute_result"
    }
   ],
   "source": [
    "# hstack: 행의 수가 같아야함\n",
    "x = np.zeros((2,3))\n",
    "y = np.ones((2,5))\n",
    "\n",
    "np.hstack([x,y])"
   ]
  },
  {
   "cell_type": "code",
   "execution_count": 19,
   "metadata": {},
   "outputs": [
    {
     "data": {
      "text/plain": [
       "array([[0., 0., 0., 0.],\n",
       "       [0., 0., 0., 0.],\n",
       "       [1., 1., 1., 1.]])"
      ]
     },
     "execution_count": 19,
     "metadata": {},
     "output_type": "execute_result"
    }
   ],
   "source": [
    "# vstack: 열의 수가 같아야함\n",
    "x = np.zeros((2,4))\n",
    "y = np.ones((1,4))\n",
    "\n",
    "np.vstack([x,y])"
   ]
  },
  {
   "cell_type": "code",
   "execution_count": 20,
   "metadata": {},
   "outputs": [
    {
     "data": {
      "text/plain": [
       "array([[[0., 1.],\n",
       "        [0., 1.],\n",
       "        [0., 1.]],\n",
       "\n",
       "       [[0., 1.],\n",
       "        [0., 1.],\n",
       "        [0., 1.]],\n",
       "\n",
       "       [[0., 1.],\n",
       "        [0., 1.],\n",
       "        [0., 1.]],\n",
       "\n",
       "       [[0., 1.],\n",
       "        [0., 1.],\n",
       "        [0., 1.]]])"
      ]
     },
     "execution_count": 20,
     "metadata": {},
     "output_type": "execute_result"
    }
   ],
   "source": [
    "# dstack: 행과 열의 수가 같아야함\n",
    "x = np.zeros((4,3))\n",
    "y = np.ones((4,3))\n",
    "\n",
    "# 기존 4 x 3 -> 4 x 3 x 2\n",
    "# dstack으로 마지막 x 2가 추가되어 행과 열의 수도 바뀜\n",
    "np.dstack([x,y])"
   ]
  },
  {
   "cell_type": "code",
   "execution_count": 21,
   "metadata": {},
   "outputs": [
    {
     "name": "stdout",
     "output_type": "stream",
     "text": [
      "[[[ 0  1  2]\n",
      "  [ 3  4  5]\n",
      "  [ 6  7  8]\n",
      "  [ 9 10 11]]\n",
      "\n",
      " [[ 0  1  2]\n",
      "  [ 3  4  5]\n",
      "  [ 6  7  8]\n",
      "  [ 9 10 11]]]\n",
      "--------------------\n",
      "[[[ 0  1  2]\n",
      "  [ 0  1  2]]\n",
      "\n",
      " [[ 3  4  5]\n",
      "  [ 3  4  5]]\n",
      "\n",
      " [[ 6  7  8]\n",
      "  [ 6  7  8]]\n",
      "\n",
      " [[ 9 10 11]\n",
      "  [ 9 10 11]]]\n",
      "--------------------\n",
      "[[[ 0  0]\n",
      "  [ 1  1]\n",
      "  [ 2  2]]\n",
      "\n",
      " [[ 3  3]\n",
      "  [ 4  4]\n",
      "  [ 5  5]]\n",
      "\n",
      " [[ 6  6]\n",
      "  [ 7  7]\n",
      "  [ 8  8]]\n",
      "\n",
      " [[ 9  9]\n",
      "  [10 10]\n",
      "  [11 11]]]\n"
     ]
    }
   ],
   "source": [
    "# stack: 행과 열의 수가 같아야함 - dstack의 확장버전\n",
    "x = np.arange(12) ; x = x.reshape((4,3))\n",
    "y = np.arange(12) ; y = y.reshape((4,3))\n",
    "\n",
    "# 기존 4 x 3 -> 2 x 4 x 3 - 깊이 연결\n",
    "print(np.stack([x,y]))\n",
    "print(\"-\" * 20)\n",
    "\n",
    "# 기존 4 x 3 -> 4 x 2 x 3  - 행 연결\n",
    "print(np.stack([x,y], axis = 1))\n",
    "print(\"-\" * 20)\n",
    "\n",
    "# 기존 4 x 3 -> 4 x 3 x 2 - 행 연결 후 전치\n",
    "print(np.stack([x,y], axis = 2))"
   ]
  },
  {
   "cell_type": "code",
   "execution_count": 22,
   "metadata": {},
   "outputs": [
    {
     "data": {
      "text/plain": [
       "array([1, 2, 3, 4, 5, 6])"
      ]
     },
     "execution_count": 22,
     "metadata": {},
     "output_type": "execute_result"
    }
   ],
   "source": [
    "# r_: hstack과 비슷\n",
    "np.r_[np.array([1, 2, 3]), np.array([4, 5, 6])]"
   ]
  },
  {
   "cell_type": "code",
   "execution_count": 23,
   "metadata": {},
   "outputs": [
    {
     "data": {
      "text/plain": [
       "array([[1, 4],\n",
       "       [2, 5],\n",
       "       [3, 6]])"
      ]
     },
     "execution_count": 23,
     "metadata": {},
     "output_type": "execute_result"
    }
   ],
   "source": [
    "# c_: 차원을 증가시킨 후 연결\n",
    "np.c_[np.array([1, 2, 3]), np.array([4, 5, 6])]"
   ]
  },
  {
   "cell_type": "code",
   "execution_count": 24,
   "metadata": {},
   "outputs": [
    {
     "name": "stdout",
     "output_type": "stream",
     "text": [
      "[[0 1 2 0 1 2 0 1 2]\n",
      " [3 4 5 3 4 5 3 4 5]]\n",
      "[[0 1 2 0 1 2]\n",
      " [3 4 5 3 4 5]\n",
      " [0 1 2 0 1 2]\n",
      " [3 4 5 3 4 5]\n",
      " [0 1 2 0 1 2]\n",
      " [3 4 5 3 4 5]]\n"
     ]
    }
   ],
   "source": [
    "# tile: 동일한 배열을 반복하여 연결\n",
    "a = np.array([[0, 1, 2],\n",
    "              [3, 4, 5]])\n",
    "\n",
    "print(np.tile(a, 3)) # 1개 지정시 hstack\n",
    "print(np.tile(a, (3,2)))"
   ]
  },
  {
   "cell_type": "markdown",
   "metadata": {},
   "source": [
    "# 연습문제 3.2.1\n",
    "지금까지 공부한 명령어를 사용하여 다음과 같은 배열을 만들어라.\n",
    "\n",
    "```\n",
    "array([[   0.,    0.,    0.,    1.,    1.],\n",
    "       [   0.,    0.,    0.,    1.,    1.],\n",
    "       [   0.,    0.,    0.,    1.,    1.],\n",
    "       [  10.,   20.,   30.,   40.,   50.],\n",
    "       [  60.,   70.,   80.,   90.,  100.],\n",
    "       [ 110.,  120.,  130.,  140.,  150.],\n",
    "       [   0.,    0.,    0.,    1.,    1.],\n",
    "       [   0.,    0.,    0.,    1.,    1.],\n",
    "       [   0.,    0.,    0.,    1.,    1.],\n",
    "       [  10.,   20.,   30.,   40.,   50.],\n",
    "       [  60.,   70.,   80.,   90.,  100.],\n",
    "       [ 110.,  120.,  130.,  140.,  150.]])\n",
    "```"
   ]
  },
  {
   "cell_type": "code",
   "execution_count": 25,
   "metadata": {},
   "outputs": [
    {
     "data": {
      "text/plain": [
       "array([[  0.,   0.,   0.,   1.,   1.],\n",
       "       [  0.,   0.,   0.,   1.,   1.],\n",
       "       [  0.,   0.,   0.,   1.,   1.],\n",
       "       [ 10.,  20.,  30.,  40.,  50.],\n",
       "       [ 60.,  70.,  80.,  90., 100.],\n",
       "       [110., 120., 130., 140., 150.],\n",
       "       [  0.,   0.,   0.,   1.,   1.],\n",
       "       [  0.,   0.,   0.,   1.,   1.],\n",
       "       [  0.,   0.,   0.,   1.,   1.],\n",
       "       [ 10.,  20.,  30.,  40.,  50.],\n",
       "       [ 60.,  70.,  80.,  90., 100.],\n",
       "       [110., 120., 130., 140., 150.]])"
      ]
     },
     "execution_count": 25,
     "metadata": {},
     "output_type": "execute_result"
    }
   ],
   "source": [
    "z1 = np.zeros((3,3))\n",
    "o1 = np.ones((3,2))\n",
    "\n",
    "m1 = np.arange(10, 151, 10)\n",
    "m2 = m1.reshape((3,5))\n",
    "\n",
    "k1 = np.hstack([z1,o1])\n",
    "k2 = np.vstack([k1,m2])\n",
    "\n",
    "k3 = np.tile(k2,(2,1))\n",
    "k3"
   ]
  },
  {
   "cell_type": "markdown",
   "metadata": {},
   "source": [
    "# 2차원 그리드 포인트 생성"
   ]
  },
  {
   "cell_type": "code",
   "execution_count": 26,
   "metadata": {},
   "outputs": [
    {
     "name": "stdout",
     "output_type": "stream",
     "text": [
      "[[0 1 2]\n",
      " [0 1 2]\n",
      " [0 1 2]\n",
      " [0 1 2]\n",
      " [0 1 2]]\n",
      "--------------------\n",
      "[[0 0 0]\n",
      " [1 1 1]\n",
      " [2 2 2]\n",
      " [3 3 3]\n",
      " [4 4 4]]\n",
      "--------------------\n"
     ]
    },
    {
     "data": {
      "text/plain": [
       "[[(0, 0), (1, 0), (2, 0)],\n",
       " [(0, 1), (1, 1), (2, 1)],\n",
       " [(0, 2), (1, 2), (2, 2)],\n",
       " [(0, 3), (1, 3), (2, 3)],\n",
       " [(0, 4), (1, 4), (2, 4)]]"
      ]
     },
     "execution_count": 26,
     "metadata": {},
     "output_type": "execute_result"
    }
   ],
   "source": [
    "# 좌표 만들기\n",
    "x = np.arange(3)\n",
    "y = np.arange(5)\n",
    "\n",
    "# np.meshgrid\n",
    "# X: 5 x 3 - vstack / Y: 5 x 3 - hstack\n",
    "X, Y = np.meshgrid(x,y)\n",
    "print(X)\n",
    "print(\"-\" * 20)\n",
    "\n",
    "print(Y)\n",
    "print(\"-\" * 20)\n",
    "\n",
    "# zip: pair를 만들어줌\n",
    "[list(zip(x, y)) for x, y in zip(X, Y)]"
   ]
  },
  {
   "cell_type": "code",
   "execution_count": null,
   "metadata": {},
   "outputs": [],
   "source": []
  }
 ],
 "metadata": {
  "kernelspec": {
   "display_name": "Python 3",
   "language": "python",
   "name": "python3"
  },
  "language_info": {
   "codemirror_mode": {
    "name": "ipython",
    "version": 3
   },
   "file_extension": ".py",
   "mimetype": "text/x-python",
   "name": "python",
   "nbconvert_exporter": "python",
   "pygments_lexer": "ipython3",
   "version": "3.8.5"
  }
 },
 "nbformat": 4,
 "nbformat_minor": 4
}
