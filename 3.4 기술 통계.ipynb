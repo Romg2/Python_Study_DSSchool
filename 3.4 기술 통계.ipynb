{
 "cells": [
  {
   "cell_type": "markdown",
   "metadata": {},
   "source": [
    "# 3.4 기술 통계"
   ]
  },
  {
   "cell_type": "code",
   "execution_count": 1,
   "metadata": {},
   "outputs": [],
   "source": [
    "import numpy as np"
   ]
  },
  {
   "cell_type": "code",
   "execution_count": 2,
   "metadata": {},
   "outputs": [],
   "source": [
    "x = np.array([18,   5,  10,  23,  19,  -8,  10,   0,   0,   5,   2,  15,   8,\n",
    "              2,   5,   4,  15,  -1,   4,  -7, -24,   7,   9,  -6,  23, -13])"
   ]
  },
  {
   "cell_type": "code",
   "execution_count": 3,
   "metadata": {},
   "outputs": [
    {
     "name": "stdout",
     "output_type": "stream",
     "text": [
      "데이터의 개수: 26\n",
      "표본 평균: 4.8076923076923075\n",
      "표본 분산: 115.23224852071006\n",
      "표본 표준편차: 10.734628476137871\n",
      "최대값: 23\n",
      "최소값: -24\n",
      "중앙값: 5.0\n",
      "최소값: -24.0\n",
      "1사분위수: 0.0\n",
      "2사분위수: 5.0\n",
      "3사분위수: 10.0\n",
      "최대값: 23.0\n"
     ]
    }
   ],
   "source": [
    "# 데이터의 개수\n",
    "print(\"데이터의 개수:\", len(x))\n",
    "\n",
    "# 표본 평균\n",
    "print(\"표본 평균:\", np.mean(x))\n",
    "\n",
    "# 표본 분산\n",
    "print(\"표본 분산:\", np.var(x))\n",
    "\n",
    "# 표본 표준편차\n",
    "print(\"표본 표준편차:\", np.std(x))\n",
    "\n",
    "# 최대값, 최소값\n",
    "print(\"최대값:\", np.max(x))\n",
    "print(\"최소값:\", np.min(x))\n",
    "\n",
    "# 중앙값\n",
    "print(\"중앙값:\", np.median(x))\n",
    "\n",
    "# 사분위수\n",
    "print(\"최소값:\", np.percentile(x,0))\n",
    "print(\"1사분위수:\", np.percentile(x,25))\n",
    "print(\"2사분위수:\", np.percentile(x,50))\n",
    "print(\"3사분위수:\", np.percentile(x,75))\n",
    "print(\"최대값:\", np.percentile(x,100))"
   ]
  }
 ],
 "metadata": {
  "kernelspec": {
   "display_name": "Python 3",
   "language": "python",
   "name": "python3"
  },
  "language_info": {
   "codemirror_mode": {
    "name": "ipython",
    "version": 3
   },
   "file_extension": ".py",
   "mimetype": "text/x-python",
   "name": "python",
   "nbconvert_exporter": "python",
   "pygments_lexer": "ipython3",
   "version": "3.8.5"
  }
 },
 "nbformat": 4,
 "nbformat_minor": 4
}
