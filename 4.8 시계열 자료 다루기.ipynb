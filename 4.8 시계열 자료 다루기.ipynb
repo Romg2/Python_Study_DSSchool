{
 "cells": [
  {
   "cell_type": "markdown",
   "metadata": {},
   "source": [
    "# 4.8 시계열 자료 다루기"
   ]
  },
  {
   "cell_type": "markdown",
   "metadata": {},
   "source": [
    "# DatetimeIndex 인덱스"
   ]
  },
  {
   "cell_type": "code",
   "execution_count": 1,
   "metadata": {},
   "outputs": [],
   "source": [
    "import numpy as np\n",
    "import pandas as pd"
   ]
  },
  {
   "cell_type": "code",
   "execution_count": 2,
   "metadata": {},
   "outputs": [
    {
     "data": {
      "text/plain": [
       "DatetimeIndex(['2018-01-01', '2018-01-04', '2018-01-05', '2018-01-06'], dtype='datetime64[ns]', freq=None)"
      ]
     },
     "execution_count": 2,
     "metadata": {},
     "output_type": "execute_result"
    }
   ],
   "source": [
    "# datetime index 생성 1\n",
    "date_str = [\"2018, 1, 1\", \"2018, 1, 4\", \"2018, 1, 5\", \"2018, 1, 6\"]\n",
    "idx = pd.to_datetime(date_str)\n",
    "idx"
   ]
  },
  {
   "cell_type": "code",
   "execution_count": 3,
   "metadata": {},
   "outputs": [
    {
     "data": {
      "text/plain": [
       "DatetimeIndex(['2018-04-01', '2018-04-02', '2018-04-03', '2018-04-04',\n",
       "               '2018-04-05', '2018-04-06', '2018-04-07', '2018-04-08',\n",
       "               '2018-04-09', '2018-04-10', '2018-04-11', '2018-04-12',\n",
       "               '2018-04-13', '2018-04-14', '2018-04-15', '2018-04-16',\n",
       "               '2018-04-17', '2018-04-18', '2018-04-19', '2018-04-20',\n",
       "               '2018-04-21', '2018-04-22', '2018-04-23', '2018-04-24',\n",
       "               '2018-04-25', '2018-04-26', '2018-04-27', '2018-04-28',\n",
       "               '2018-04-29', '2018-04-30'],\n",
       "              dtype='datetime64[ns]', freq='D')"
      ]
     },
     "execution_count": 3,
     "metadata": {},
     "output_type": "execute_result"
    }
   ],
   "source": [
    "# datetime index 생성 2\n",
    "pd.date_range(\"2018-4-1\", \"2018-4-30\")"
   ]
  },
  {
   "cell_type": "code",
   "execution_count": 4,
   "metadata": {},
   "outputs": [
    {
     "data": {
      "text/plain": [
       "DatetimeIndex(['2018-04-01', '2018-04-02', '2018-04-03', '2018-04-04',\n",
       "               '2018-04-05'],\n",
       "              dtype='datetime64[ns]', freq='D')"
      ]
     },
     "execution_count": 4,
     "metadata": {},
     "output_type": "execute_result"
    }
   ],
   "source": [
    "# 갯수 입력하여 생성\n",
    "pd.date_range(start=\"2018-4-1\", periods=5)"
   ]
  },
  {
   "cell_type": "markdown",
   "metadata": {},
   "source": [
    "### freq 인수\n",
    "| 인수 | 설명 |\n",
    "|-|-|\n",
    "|s|초|\n",
    "|T|분|\n",
    "|H|시간|\n",
    "|D|일(day)|\n",
    "|B|주말이 아닌 평일|\n",
    "|W|주(일요일)|\n",
    "|W-MON|주(월요일)|\n",
    "|M|각 달(month)의 마지막 날|\n",
    "|MS|각 달의 첫날|\n",
    "|BM|주말이 아닌 평일 중에서 각 달의 마지막 날|\n",
    "|BMS|주말이 아닌 평일 중에서 각 달의 첫날|\n",
    "|WOM-2THU|각 달의 두번째 목요일|\n",
    "|Q-JAN|각 분기의 첫달의 마지막 날|\n",
    "|Q-DEC|각 분기의 마지막 달의 마지막 날|"
   ]
  },
  {
   "cell_type": "code",
   "execution_count": 5,
   "metadata": {},
   "outputs": [
    {
     "data": {
      "text/plain": [
       "DatetimeIndex(['2018-04-01', '2018-04-08', '2018-04-15', '2018-04-22',\n",
       "               '2018-04-29'],\n",
       "              dtype='datetime64[ns]', freq='W-SUN')"
      ]
     },
     "execution_count": 5,
     "metadata": {},
     "output_type": "execute_result"
    }
   ],
   "source": [
    "pd.date_range(\"2018-04-01\",\"2018-04-30\", freq=\"W\")"
   ]
  },
  {
   "cell_type": "markdown",
   "metadata": {},
   "source": [
    "# shift 연산"
   ]
  },
  {
   "cell_type": "code",
   "execution_count": 6,
   "metadata": {},
   "outputs": [
    {
     "data": {
      "text/plain": [
       "2018-01-31    1.764052\n",
       "2018-02-28    0.400157\n",
       "2018-03-31    0.978738\n",
       "2018-04-30    2.240893\n",
       "Freq: M, dtype: float64"
      ]
     },
     "execution_count": 6,
     "metadata": {},
     "output_type": "execute_result"
    }
   ],
   "source": [
    "# datetime index를 가지는 시리즈\n",
    "np.random.seed(0)\n",
    "ts = pd.Series(\n",
    "    np.random.randn(4),\n",
    "    index=pd.date_range(\"2018-1-1\", periods=4, freq=\"M\")\n",
    ")\n",
    "ts"
   ]
  },
  {
   "cell_type": "code",
   "execution_count": 7,
   "metadata": {},
   "outputs": [
    {
     "data": {
      "text/plain": [
       "2018-01-31         NaN\n",
       "2018-02-28         NaN\n",
       "2018-03-31    1.764052\n",
       "2018-04-30    0.400157\n",
       "Freq: M, dtype: float64"
      ]
     },
     "execution_count": 7,
     "metadata": {},
     "output_type": "execute_result"
    }
   ],
   "source": [
    "# 값이 2칸씩 이동\n",
    "ts.shift(2)"
   ]
  },
  {
   "cell_type": "code",
   "execution_count": 8,
   "metadata": {},
   "outputs": [
    {
     "data": {
      "text/plain": [
       "2018-01-31    0.400157\n",
       "2018-02-28    0.978738\n",
       "2018-03-31    2.240893\n",
       "2018-04-30         NaN\n",
       "Freq: M, dtype: float64"
      ]
     },
     "execution_count": 8,
     "metadata": {},
     "output_type": "execute_result"
    }
   ],
   "source": [
    "# 값이 1칸 전으로 이동\n",
    "ts.shift(-1)"
   ]
  },
  {
   "cell_type": "code",
   "execution_count": 9,
   "metadata": {},
   "outputs": [
    {
     "data": {
      "text/plain": [
       "2018-02-28    1.764052\n",
       "2018-03-31    0.400157\n",
       "2018-04-30    0.978738\n",
       "2018-05-31    2.240893\n",
       "Freq: M, dtype: float64"
      ]
     },
     "execution_count": 9,
     "metadata": {},
     "output_type": "execute_result"
    }
   ],
   "source": [
    "# index를 1개 인수만큼 증가\n",
    "ts.shift(1, freq=\"M\")"
   ]
  },
  {
   "cell_type": "markdown",
   "metadata": {},
   "source": [
    "# resample 연산"
   ]
  },
  {
   "cell_type": "markdown",
   "metadata": {},
   "source": [
    "### 다운샘플링"
   ]
  },
  {
   "cell_type": "code",
   "execution_count": 10,
   "metadata": {},
   "outputs": [
    {
     "data": {
      "text/plain": [
       "2018-01-01    1.764052\n",
       "2018-01-02    0.400157\n",
       "2018-01-03    0.978738\n",
       "2018-01-04    2.240893\n",
       "2018-01-05    1.867558\n",
       "Freq: D, dtype: float64"
      ]
     },
     "execution_count": 10,
     "metadata": {},
     "output_type": "execute_result"
    }
   ],
   "source": [
    "np.random.seed(0)\n",
    "ts = pd.Series(np.random.randn(100), index=pd.date_range(\n",
    "    \"2018-1-1\", periods=100, freq=\"D\"))\n",
    "ts.head()"
   ]
  },
  {
   "cell_type": "code",
   "execution_count": 11,
   "metadata": {},
   "outputs": [
    {
     "data": {
      "text/plain": [
       "2018-01-07    1.032030\n",
       "2018-01-14    0.376722\n",
       "2018-01-21   -0.146794\n",
       "2018-01-28    0.207122\n",
       "2018-02-04    0.045536\n",
       "2018-02-11   -0.081312\n",
       "2018-02-18   -0.398918\n",
       "2018-02-25   -0.287513\n",
       "2018-03-04   -0.353319\n",
       "2018-03-11   -0.567629\n",
       "2018-03-18   -0.055802\n",
       "2018-03-25   -0.309877\n",
       "2018-04-01    0.566217\n",
       "2018-04-08    0.752381\n",
       "2018-04-15    0.264451\n",
       "Freq: W-SUN, dtype: float64"
      ]
     },
     "execution_count": 11,
     "metadata": {},
     "output_type": "execute_result"
    }
   ],
   "source": [
    "# 1일별 데이터를 주별(일요일) 데이터로 축소\n",
    "# 인덱스가 축소 되므로 그룹 함수를 사용해야함\n",
    "ts.resample(\"W\").mean()"
   ]
  },
  {
   "cell_type": "code",
   "execution_count": 12,
   "metadata": {},
   "outputs": [
    {
     "data": {
      "text/plain": [
       "2018-01-01 00:00:00    1.883151\n",
       "2018-01-01 00:01:00   -1.347759\n",
       "2018-01-01 00:02:00   -1.270485\n",
       "2018-01-01 00:03:00    0.969397\n",
       "2018-01-01 00:04:00   -1.173123\n",
       "2018-01-01 00:05:00    1.943621\n",
       "2018-01-01 00:06:00   -0.413619\n",
       "2018-01-01 00:07:00   -0.747455\n",
       "2018-01-01 00:08:00    1.922942\n",
       "2018-01-01 00:09:00    1.480515\n",
       "2018-01-01 00:10:00    1.867559\n",
       "2018-01-01 00:11:00    0.906045\n",
       "2018-01-01 00:12:00   -0.861226\n",
       "2018-01-01 00:13:00    1.910065\n",
       "2018-01-01 00:14:00   -0.268003\n",
       "2018-01-01 00:15:00    0.802456\n",
       "2018-01-01 00:16:00    0.947252\n",
       "2018-01-01 00:17:00   -0.155010\n",
       "2018-01-01 00:18:00    0.614079\n",
       "2018-01-01 00:19:00    0.922207\n",
       "Freq: T, dtype: float64"
      ]
     },
     "execution_count": 12,
     "metadata": {},
     "output_type": "execute_result"
    }
   ],
   "source": [
    "# 날짜가 아닌 시/분/초의 경우 첫 스타트가 0부터다\n",
    "ts = pd.Series(np.random.randn(60), index=pd.date_range(\n",
    "    \"2018-1-1\", periods=60, freq=\"T\"))\n",
    "ts.head(20)"
   ]
  },
  {
   "cell_type": "code",
   "execution_count": 13,
   "metadata": {},
   "outputs": [
    {
     "data": {
      "text/plain": [
       "2018-01-01 00:00:00    3.247184\n",
       "2018-01-01 00:10:00    6.685424\n",
       "2018-01-01 00:20:00    2.551313\n",
       "2018-01-01 00:30:00   -1.161345\n",
       "2018-01-01 00:40:00    1.504165\n",
       "2018-01-01 00:50:00   -2.226607\n",
       "Freq: 10T, dtype: float64"
      ]
     },
     "execution_count": 13,
     "metadata": {},
     "output_type": "execute_result"
    }
   ],
   "source": [
    "# 1분 간격을 10분 간격으로 축소\n",
    "# 즉, 00:00:00 이상 00:10:00 미만 등으로 인식\n",
    "ts.resample(\"10T\").sum()"
   ]
  },
  {
   "cell_type": "code",
   "execution_count": 14,
   "metadata": {},
   "outputs": [
    {
     "data": {
      "text/plain": [
       "2017-12-31 23:50:00    1.883151\n",
       "2018-01-01 00:00:00    3.231592\n",
       "2018-01-01 00:10:00    5.194290\n",
       "2018-01-01 00:20:00    1.404972\n",
       "2018-01-01 00:30:00   -1.882686\n",
       "2018-01-01 00:40:00    2.927181\n",
       "2018-01-01 00:50:00   -2.158366\n",
       "Freq: 10T, dtype: float64"
      ]
     },
     "execution_count": 14,
     "metadata": {},
     "output_type": "execute_result"
    }
   ],
   "source": [
    "# closed 옵션을 이용해서 오른쪽을 포함\n",
    "# 첫 번째를 보면 23:50:00 초과 00:00:00 이하: 1.883151로서 1개의 값이 sum\n",
    "# 기존 데이터의 첫 행과 같은 값임을 확인 가능\n",
    "ts.resample('10T', closed=\"right\").sum()"
   ]
  },
  {
   "cell_type": "code",
   "execution_count": 15,
   "metadata": {},
   "outputs": [
    {
     "data": {
      "text/html": [
       "<div>\n",
       "<style scoped>\n",
       "    .dataframe tbody tr th:only-of-type {\n",
       "        vertical-align: middle;\n",
       "    }\n",
       "\n",
       "    .dataframe tbody tr th {\n",
       "        vertical-align: top;\n",
       "    }\n",
       "\n",
       "    .dataframe thead th {\n",
       "        text-align: right;\n",
       "    }\n",
       "</style>\n",
       "<table border=\"1\" class=\"dataframe\">\n",
       "  <thead>\n",
       "    <tr style=\"text-align: right;\">\n",
       "      <th></th>\n",
       "      <th>open</th>\n",
       "      <th>high</th>\n",
       "      <th>low</th>\n",
       "      <th>close</th>\n",
       "    </tr>\n",
       "  </thead>\n",
       "  <tbody>\n",
       "    <tr>\n",
       "      <th>2018-01-01 00:00:00</th>\n",
       "      <td>1.883151</td>\n",
       "      <td>1.943621</td>\n",
       "      <td>-1.347759</td>\n",
       "      <td>1.480515</td>\n",
       "    </tr>\n",
       "    <tr>\n",
       "      <th>2018-01-01 00:10:00</th>\n",
       "      <td>1.867559</td>\n",
       "      <td>1.910065</td>\n",
       "      <td>-0.861226</td>\n",
       "      <td>0.922207</td>\n",
       "    </tr>\n",
       "    <tr>\n",
       "      <th>2018-01-01 00:20:00</th>\n",
       "      <td>0.376426</td>\n",
       "      <td>1.849264</td>\n",
       "      <td>-1.099401</td>\n",
       "      <td>0.407462</td>\n",
       "    </tr>\n",
       "    <tr>\n",
       "      <th>2018-01-01 00:30:00</th>\n",
       "      <td>-0.769916</td>\n",
       "      <td>0.676433</td>\n",
       "      <td>-1.093062</td>\n",
       "      <td>-1.093062</td>\n",
       "    </tr>\n",
       "    <tr>\n",
       "      <th>2018-01-01 00:40:00</th>\n",
       "      <td>-1.491258</td>\n",
       "      <td>2.383145</td>\n",
       "      <td>-1.491258</td>\n",
       "      <td>-0.461585</td>\n",
       "    </tr>\n",
       "    <tr>\n",
       "      <th>2018-01-01 00:50:00</th>\n",
       "      <td>-0.068242</td>\n",
       "      <td>1.713343</td>\n",
       "      <td>-1.147469</td>\n",
       "      <td>-0.437820</td>\n",
       "    </tr>\n",
       "  </tbody>\n",
       "</table>\n",
       "</div>"
      ],
      "text/plain": [
       "                         open      high       low     close\n",
       "2018-01-01 00:00:00  1.883151  1.943621 -1.347759  1.480515\n",
       "2018-01-01 00:10:00  1.867559  1.910065 -0.861226  0.922207\n",
       "2018-01-01 00:20:00  0.376426  1.849264 -1.099401  0.407462\n",
       "2018-01-01 00:30:00 -0.769916  0.676433 -1.093062 -1.093062\n",
       "2018-01-01 00:40:00 -1.491258  2.383145 -1.491258 -0.461585\n",
       "2018-01-01 00:50:00 -0.068242  1.713343 -1.147469 -0.437820"
      ]
     },
     "execution_count": 15,
     "metadata": {},
     "output_type": "execute_result"
    }
   ],
   "source": [
    "#  ohlc 옵션을 이용해서 시,고,저,종 확인 가능\n",
    "ts.resample('10T').ohlc()"
   ]
  },
  {
   "cell_type": "markdown",
   "metadata": {},
   "source": [
    "### 업 샘플링"
   ]
  },
  {
   "cell_type": "code",
   "execution_count": 16,
   "metadata": {},
   "outputs": [
    {
     "data": {
      "text/plain": [
       "2018-01-01 00:00:00   -0.498032\n",
       "2018-01-01 00:01:00    1.929532\n",
       "2018-01-01 00:02:00    0.949421\n",
       "2018-01-01 00:03:00    0.087551\n",
       "2018-01-01 00:04:00   -1.225436\n",
       "2018-01-01 00:05:00    0.844363\n",
       "2018-01-01 00:06:00   -1.000215\n",
       "2018-01-01 00:07:00   -1.544771\n",
       "2018-01-01 00:08:00    1.188030\n",
       "2018-01-01 00:09:00    0.316943\n",
       "2018-01-01 00:10:00    0.920859\n",
       "2018-01-01 00:11:00    0.318728\n",
       "2018-01-01 00:12:00    0.856831\n",
       "2018-01-01 00:13:00   -0.651026\n",
       "2018-01-01 00:14:00   -1.034243\n",
       "2018-01-01 00:15:00    0.681595\n",
       "2018-01-01 00:16:00   -0.803410\n",
       "2018-01-01 00:17:00   -0.689550\n",
       "2018-01-01 00:18:00   -0.455533\n",
       "2018-01-01 00:19:00    0.017479\n",
       "Freq: T, dtype: float64"
      ]
     },
     "execution_count": 16,
     "metadata": {},
     "output_type": "execute_result"
    }
   ],
   "source": [
    "ts = pd.Series(np.random.randn(60), index=pd.date_range(\n",
    "    \"2018-1-1\", periods=60, freq=\"T\"))\n",
    "ts.head(20)"
   ]
  },
  {
   "cell_type": "code",
   "execution_count": 17,
   "metadata": {},
   "outputs": [
    {
     "data": {
      "text/plain": [
       "2018-01-01 00:00:00   -0.498032\n",
       "2018-01-01 00:00:30   -0.498032\n",
       "2018-01-01 00:01:00    1.929532\n",
       "2018-01-01 00:01:30    1.929532\n",
       "2018-01-01 00:02:00    0.949421\n",
       "2018-01-01 00:02:30    0.949421\n",
       "2018-01-01 00:03:00    0.087551\n",
       "2018-01-01 00:03:30    0.087551\n",
       "2018-01-01 00:04:00   -1.225436\n",
       "2018-01-01 00:04:30   -1.225436\n",
       "2018-01-01 00:05:00    0.844363\n",
       "2018-01-01 00:05:30    0.844363\n",
       "2018-01-01 00:06:00   -1.000215\n",
       "2018-01-01 00:06:30   -1.000215\n",
       "2018-01-01 00:07:00   -1.544771\n",
       "2018-01-01 00:07:30   -1.544771\n",
       "2018-01-01 00:08:00    1.188030\n",
       "2018-01-01 00:08:30    1.188030\n",
       "2018-01-01 00:09:00    0.316943\n",
       "2018-01-01 00:09:30    0.316943\n",
       "Freq: 30S, dtype: float64"
      ]
     },
     "execution_count": 17,
     "metadata": {},
     "output_type": "execute_result"
    }
   ],
   "source": [
    "# 분별 데이터를 30초별 데이터로 확장\n",
    "# 인덱스가 늘어나므로 없는 값을 추가해야함\n",
    "# ffill: 앞에 값을 사용\n",
    "ts.resample('30s').ffill().head(20)"
   ]
  },
  {
   "cell_type": "code",
   "execution_count": 18,
   "metadata": {},
   "outputs": [
    {
     "data": {
      "text/plain": [
       "2018-01-01 00:00:00   -0.498032\n",
       "2018-01-01 00:00:30    1.929532\n",
       "2018-01-01 00:01:00    1.929532\n",
       "2018-01-01 00:01:30    0.949421\n",
       "2018-01-01 00:02:00    0.949421\n",
       "2018-01-01 00:02:30    0.087551\n",
       "2018-01-01 00:03:00    0.087551\n",
       "2018-01-01 00:03:30   -1.225436\n",
       "2018-01-01 00:04:00   -1.225436\n",
       "2018-01-01 00:04:30    0.844363\n",
       "2018-01-01 00:05:00    0.844363\n",
       "2018-01-01 00:05:30   -1.000215\n",
       "2018-01-01 00:06:00   -1.000215\n",
       "2018-01-01 00:06:30   -1.544771\n",
       "2018-01-01 00:07:00   -1.544771\n",
       "2018-01-01 00:07:30    1.188030\n",
       "2018-01-01 00:08:00    1.188030\n",
       "2018-01-01 00:08:30    0.316943\n",
       "2018-01-01 00:09:00    0.316943\n",
       "2018-01-01 00:09:30    0.920859\n",
       "Freq: 30S, dtype: float64"
      ]
     },
     "execution_count": 18,
     "metadata": {},
     "output_type": "execute_result"
    }
   ],
   "source": [
    "# bfill: 뒤에 값을 사용\n",
    "ts.resample('30s').bfill().head(20)"
   ]
  },
  {
   "cell_type": "markdown",
   "metadata": {},
   "source": [
    "# dt 접근자"
   ]
  },
  {
   "cell_type": "code",
   "execution_count": 19,
   "metadata": {},
   "outputs": [
    {
     "data": {
      "text/plain": [
       "0    2020-12-25\n",
       "1    2020-12-26\n",
       "2    2020-12-27\n",
       "3    2020-12-28\n",
       "4    2020-12-29\n",
       "        ...    \n",
       "95   2021-03-30\n",
       "96   2021-03-31\n",
       "97   2021-04-01\n",
       "98   2021-04-02\n",
       "99   2021-04-03\n",
       "Length: 100, dtype: datetime64[ns]"
      ]
     },
     "execution_count": 19,
     "metadata": {},
     "output_type": "execute_result"
    }
   ],
   "source": [
    "# 시리즈 생성\n",
    "s = pd.Series(pd.date_range(\"2020-12-25\", periods=100, freq=\"D\"))\n",
    "s"
   ]
  },
  {
   "cell_type": "code",
   "execution_count": 20,
   "metadata": {},
   "outputs": [
    {
     "data": {
      "text/plain": [
       "0     4\n",
       "1     5\n",
       "2     6\n",
       "3     0\n",
       "4     1\n",
       "     ..\n",
       "95    1\n",
       "96    2\n",
       "97    3\n",
       "98    4\n",
       "99    5\n",
       "Length: 100, dtype: int64"
      ]
     },
     "execution_count": 20,
     "metadata": {},
     "output_type": "execute_result"
    }
   ],
   "source": [
    "# 요일 정보\n",
    "s.dt.weekday"
   ]
  },
  {
   "cell_type": "code",
   "execution_count": 21,
   "metadata": {},
   "outputs": [
    {
     "data": {
      "text/plain": [
       "0    2018\n",
       "1    2018\n",
       "2    2018\n",
       "Name: index, dtype: int64"
      ]
     },
     "execution_count": 21,
     "metadata": {},
     "output_type": "execute_result"
    }
   ],
   "source": [
    "# resample에 사용했던 ts 데이터 프레임을 시리즈로 변경해서 정보 추출\n",
    "ts.reset_index()[\"index\"].dt.year.head(3)"
   ]
  },
  {
   "cell_type": "code",
   "execution_count": 22,
   "metadata": {},
   "outputs": [
    {
     "data": {
      "text/plain": [
       "0     2020년 12월 25일\n",
       "1     2020년 12월 26일\n",
       "2     2020년 12월 27일\n",
       "3     2020년 12월 28일\n",
       "4     2020년 12월 29일\n",
       "          ...      \n",
       "95    2021년 03월 30일\n",
       "96    2021년 03월 31일\n",
       "97    2021년 04월 01일\n",
       "98    2021년 04월 02일\n",
       "99    2021년 04월 03일\n",
       "Length: 100, dtype: object"
      ]
     },
     "execution_count": 22,
     "metadata": {},
     "output_type": "execute_result"
    }
   ],
   "source": [
    "# strftime을 이용해서 포맷 변경\n",
    "s.dt.strftime(\"%Y년 %m월 %d일\")"
   ]
  },
  {
   "cell_type": "markdown",
   "metadata": {},
   "source": [
    "# 연습문제 4.8.1\n",
    "\n",
    "다음 명령으로 만들어진 데이터프레임에 대해 월별 value의 합계를 구하라. (힌트: groupby 메서드와 dt 접근자를 사용하라)\n",
    "\n",
    "```python\n",
    "np.random.seed(0)\n",
    "df = pd.DataFrame({\n",
    "    \"date\": pd.date_range(\"2020-12-25\", periods=100, freq=\"D\"), \n",
    "    \"value\": np.random.randint(100, size=(100,))\n",
    "})\n",
    "```"
   ]
  },
  {
   "cell_type": "code",
   "execution_count": 23,
   "metadata": {},
   "outputs": [
    {
     "data": {
      "text/html": [
       "<div>\n",
       "<style scoped>\n",
       "    .dataframe tbody tr th:only-of-type {\n",
       "        vertical-align: middle;\n",
       "    }\n",
       "\n",
       "    .dataframe tbody tr th {\n",
       "        vertical-align: top;\n",
       "    }\n",
       "\n",
       "    .dataframe thead th {\n",
       "        text-align: right;\n",
       "    }\n",
       "</style>\n",
       "<table border=\"1\" class=\"dataframe\">\n",
       "  <thead>\n",
       "    <tr style=\"text-align: right;\">\n",
       "      <th></th>\n",
       "      <th>date</th>\n",
       "      <th>value</th>\n",
       "    </tr>\n",
       "  </thead>\n",
       "  <tbody>\n",
       "    <tr>\n",
       "      <th>0</th>\n",
       "      <td>2020-12-25</td>\n",
       "      <td>44</td>\n",
       "    </tr>\n",
       "    <tr>\n",
       "      <th>1</th>\n",
       "      <td>2020-12-26</td>\n",
       "      <td>47</td>\n",
       "    </tr>\n",
       "    <tr>\n",
       "      <th>2</th>\n",
       "      <td>2020-12-27</td>\n",
       "      <td>64</td>\n",
       "    </tr>\n",
       "    <tr>\n",
       "      <th>3</th>\n",
       "      <td>2020-12-28</td>\n",
       "      <td>67</td>\n",
       "    </tr>\n",
       "    <tr>\n",
       "      <th>4</th>\n",
       "      <td>2020-12-29</td>\n",
       "      <td>67</td>\n",
       "    </tr>\n",
       "    <tr>\n",
       "      <th>...</th>\n",
       "      <td>...</td>\n",
       "      <td>...</td>\n",
       "    </tr>\n",
       "    <tr>\n",
       "      <th>95</th>\n",
       "      <td>2021-03-30</td>\n",
       "      <td>23</td>\n",
       "    </tr>\n",
       "    <tr>\n",
       "      <th>96</th>\n",
       "      <td>2021-03-31</td>\n",
       "      <td>79</td>\n",
       "    </tr>\n",
       "    <tr>\n",
       "      <th>97</th>\n",
       "      <td>2021-04-01</td>\n",
       "      <td>13</td>\n",
       "    </tr>\n",
       "    <tr>\n",
       "      <th>98</th>\n",
       "      <td>2021-04-02</td>\n",
       "      <td>85</td>\n",
       "    </tr>\n",
       "    <tr>\n",
       "      <th>99</th>\n",
       "      <td>2021-04-03</td>\n",
       "      <td>48</td>\n",
       "    </tr>\n",
       "  </tbody>\n",
       "</table>\n",
       "<p>100 rows × 2 columns</p>\n",
       "</div>"
      ],
      "text/plain": [
       "         date  value\n",
       "0  2020-12-25     44\n",
       "1  2020-12-26     47\n",
       "2  2020-12-27     64\n",
       "3  2020-12-28     67\n",
       "4  2020-12-29     67\n",
       "..        ...    ...\n",
       "95 2021-03-30     23\n",
       "96 2021-03-31     79\n",
       "97 2021-04-01     13\n",
       "98 2021-04-02     85\n",
       "99 2021-04-03     48\n",
       "\n",
       "[100 rows x 2 columns]"
      ]
     },
     "execution_count": 23,
     "metadata": {},
     "output_type": "execute_result"
    }
   ],
   "source": [
    "np.random.seed(0)\n",
    "df = pd.DataFrame({\n",
    "    \"date\": pd.date_range(\"2020-12-25\", periods=100, freq=\"D\"), \n",
    "    \"value\": np.random.randint(100, size=(100,))\n",
    "})\n",
    "df"
   ]
  },
  {
   "cell_type": "code",
   "execution_count": 24,
   "metadata": {},
   "outputs": [
    {
     "data": {
      "text/html": [
       "<div>\n",
       "<style scoped>\n",
       "    .dataframe tbody tr th:only-of-type {\n",
       "        vertical-align: middle;\n",
       "    }\n",
       "\n",
       "    .dataframe tbody tr th {\n",
       "        vertical-align: top;\n",
       "    }\n",
       "\n",
       "    .dataframe thead th {\n",
       "        text-align: right;\n",
       "    }\n",
       "</style>\n",
       "<table border=\"1\" class=\"dataframe\">\n",
       "  <thead>\n",
       "    <tr style=\"text-align: right;\">\n",
       "      <th></th>\n",
       "      <th></th>\n",
       "      <th>value</th>\n",
       "    </tr>\n",
       "    <tr>\n",
       "      <th>date</th>\n",
       "      <th>date</th>\n",
       "      <th></th>\n",
       "    </tr>\n",
       "  </thead>\n",
       "  <tbody>\n",
       "    <tr>\n",
       "      <th>2020</th>\n",
       "      <th>12</th>\n",
       "      <td>381</td>\n",
       "    </tr>\n",
       "    <tr>\n",
       "      <th rowspan=\"4\" valign=\"top\">2021</th>\n",
       "      <th>1</th>\n",
       "      <td>1811</td>\n",
       "    </tr>\n",
       "    <tr>\n",
       "      <th>2</th>\n",
       "      <td>985</td>\n",
       "    </tr>\n",
       "    <tr>\n",
       "      <th>3</th>\n",
       "      <td>1500</td>\n",
       "    </tr>\n",
       "    <tr>\n",
       "      <th>4</th>\n",
       "      <td>146</td>\n",
       "    </tr>\n",
       "  </tbody>\n",
       "</table>\n",
       "</div>"
      ],
      "text/plain": [
       "           value\n",
       "date date       \n",
       "2020 12      381\n",
       "2021 1      1811\n",
       "     2       985\n",
       "     3      1500\n",
       "     4       146"
      ]
     },
     "execution_count": 24,
     "metadata": {},
     "output_type": "execute_result"
    }
   ],
   "source": [
    "df.groupby([df.date.dt.year,df.date.dt.month]).sum()"
   ]
  }
 ],
 "metadata": {
  "kernelspec": {
   "display_name": "Python 3",
   "language": "python",
   "name": "python3"
  },
  "language_info": {
   "codemirror_mode": {
    "name": "ipython",
    "version": 3
   },
   "file_extension": ".py",
   "mimetype": "text/x-python",
   "name": "python",
   "nbconvert_exporter": "python",
   "pygments_lexer": "ipython3",
   "version": "3.8.5"
  }
 },
 "nbformat": 4,
 "nbformat_minor": 4
}
