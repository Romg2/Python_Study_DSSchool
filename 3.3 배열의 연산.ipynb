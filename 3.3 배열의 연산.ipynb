{
 "cells": [
  {
   "cell_type": "markdown",
   "metadata": {},
   "source": [
    "# 3.3 배열의 연산"
   ]
  },
  {
   "cell_type": "code",
   "execution_count": 1,
   "metadata": {},
   "outputs": [],
   "source": [
    "import numpy as np"
   ]
  },
  {
   "cell_type": "markdown",
   "metadata": {},
   "source": [
    "# 벡터화 연산"
   ]
  },
  {
   "cell_type": "code",
   "execution_count": 2,
   "metadata": {},
   "outputs": [
    {
     "name": "stdout",
     "output_type": "stream",
     "text": [
      "[1, 2, 3, 4, 5, 6, 7, 8, 9, 10, 11, 12, 13, 14, 15, 16, 17, 18, 19, 20]\n",
      "[12 14 16 18 20 22 24 26 28 30]\n"
     ]
    }
   ],
   "source": [
    "# 리스트\n",
    "x = list(range(1,11))\n",
    "y = list(range(11,21))\n",
    "\n",
    "z = x + y\n",
    "print(z)\n",
    "\n",
    "# 배열\n",
    "x = np.arange(1, 11)\n",
    "y = np.arange(11, 21)\n",
    "\n",
    "z = x + y\n",
    "print(z)"
   ]
  },
  {
   "cell_type": "code",
   "execution_count": 3,
   "metadata": {},
   "outputs": [
    {
     "name": "stdout",
     "output_type": "stream",
     "text": [
      "[False  True False  True]\n",
      "[False  True  True  True]\n"
     ]
    }
   ],
   "source": [
    "# 논리연산\n",
    "x = np.array([1,2,3,4])\n",
    "y = np.array([3,2,1,4])\n",
    "\n",
    "print(x == y)\n",
    "print(x >= y)"
   ]
  },
  {
   "cell_type": "code",
   "execution_count": 4,
   "metadata": {},
   "outputs": [
    {
     "name": "stdout",
     "output_type": "stream",
     "text": [
      "False\n",
      "True\n"
     ]
    }
   ],
   "source": [
    "# 모든 배열의 원소 검증\n",
    "x = np.array([1,2,3,4])\n",
    "y = np.array([3,2,1,4])\n",
    "z = np.array([1,2,3,4])\n",
    "\n",
    "print(np.all(x == y))\n",
    "print(np.all(x == z))"
   ]
  },
  {
   "cell_type": "code",
   "execution_count": 5,
   "metadata": {},
   "outputs": [
    {
     "name": "stdout",
     "output_type": "stream",
     "text": [
      "[ 2.71828183  7.3890561  20.08553692 54.59815003]\n",
      "[0.         0.69314718 1.09861229 1.38629436]\n",
      "[ 1  4  9 16]\n"
     ]
    }
   ],
   "source": [
    "# 지수함수, 로그함수 적용\n",
    "x = np.array([1,2,3,4])\n",
    "\n",
    "print(np.exp(x))\n",
    "print(np.log(x))\n",
    "print(x ** 2)"
   ]
  },
  {
   "cell_type": "markdown",
   "metadata": {},
   "source": [
    "# 스칼라와 벡터/행렬의 곱셈"
   ]
  },
  {
   "cell_type": "code",
   "execution_count": 6,
   "metadata": {},
   "outputs": [
    {
     "data": {
      "text/plain": [
       "array([[   0,  100,  200,  300],\n",
       "       [ 400,  500,  600,  700],\n",
       "       [ 800,  900, 1000, 1100]])"
      ]
     },
     "execution_count": 6,
     "metadata": {},
     "output_type": "execute_result"
    }
   ],
   "source": [
    "# 스칼라 곱셈\n",
    "x = np.arange(12).reshape(3,4)\n",
    "\n",
    "100 * x"
   ]
  },
  {
   "cell_type": "code",
   "execution_count": 7,
   "metadata": {},
   "outputs": [
    {
     "name": "stdout",
     "output_type": "stream",
     "text": [
      "[[0 1]\n",
      " [2 3]]\n",
      "----------\n",
      "[[0 1]]\n",
      "----------\n",
      "[[0 1]\n",
      " [0 3]]\n"
     ]
    }
   ],
   "source": [
    "# 행렬 곱셈\n",
    "x = np.arange(4).reshape(2,2) # 2 x 2\n",
    "y = np.arange(2).reshape(1,2) # 1 x 2\n",
    "\n",
    "print(x)\n",
    "print(\"-\" * 10)\n",
    "print(y)\n",
    "print(\"-\" * 10)\n",
    "print(y * x)"
   ]
  },
  {
   "cell_type": "markdown",
   "metadata": {},
   "source": [
    "# 브로드캐스팅"
   ]
  },
  {
   "cell_type": "code",
   "execution_count": 8,
   "metadata": {},
   "outputs": [
    {
     "name": "stdout",
     "output_type": "stream",
     "text": [
      "[1 2 3 4 5]\n",
      "[1 2 3 4 5]\n"
     ]
    }
   ],
   "source": [
    "# 브로드캐스팅: 행렬 연산시 크기가 작은 배열을 자동으로 확장시켜주는 기능\n",
    "x = np.arange(5)\n",
    "y = np.ones_like(x)\n",
    "\n",
    "# 크기가 같은 행렬 덧셈\n",
    "print(x + y)\n",
    "\n",
    "# 행렬 + 1\n",
    "print(x + 1)"
   ]
  },
  {
   "cell_type": "code",
   "execution_count": 9,
   "metadata": {},
   "outputs": [
    {
     "name": "stdout",
     "output_type": "stream",
     "text": [
      "[[0 1 2]\n",
      " [1 2 3]\n",
      " [2 3 4]\n",
      " [3 4 5]\n",
      " [4 5 6]]\n",
      "----------\n",
      "[[0]\n",
      " [1]\n",
      " [2]\n",
      " [3]\n",
      " [4]]\n",
      "----------\n",
      "[[ 0  1  2]\n",
      " [ 2  3  4]\n",
      " [ 4  5  6]\n",
      " [ 6  7  8]\n",
      " [ 8  9 10]]\n"
     ]
    }
   ],
   "source": [
    "# 다차원에서도 적용가능\n",
    "# 5 x 3 행렬\n",
    "x = np.vstack([range(7)[i:i + 3] for i in range(5)])\n",
    "print(x)\n",
    "print(\"-\" * 10)\n",
    "\n",
    "# 5 x 1 행렬\n",
    "y = np.arange(5)[:,np.newaxis]\n",
    "print(y)\n",
    "print(\"-\" * 10)\n",
    "\n",
    "# 자동으로 y 행렬을 확장해서 연산\n",
    "print(x + y)"
   ]
  },
  {
   "cell_type": "markdown",
   "metadata": {},
   "source": [
    "# 차원 축소 연산"
   ]
  },
  {
   "cell_type": "code",
   "execution_count": 10,
   "metadata": {},
   "outputs": [
    {
     "name": "stdout",
     "output_type": "stream",
     "text": [
      "합계: 11\n",
      "합계: 11\n",
      "최소값: 1\n",
      "최대값: 5\n",
      "최소값 위치: 0\n",
      "최대값 위치: 3\n",
      "평균: 2.75\n",
      "중앙값: 2.5\n"
     ]
    }
   ],
   "source": [
    "# 행별로 연산\n",
    "x = np.array([1, 2, 3, 5])\n",
    "\n",
    "# 합계\n",
    "print(\"합계:\", np.sum(x))\n",
    "print(\"합계:\", x.sum())\n",
    "\n",
    "# 최소값, 최대값\n",
    "print(\"최소값:\", x.min())\n",
    "print(\"최대값:\", x.max())\n",
    "\n",
    "# 최소값, 최대값 위치\n",
    "print(\"최소값 위치:\", x.argmin())\n",
    "print(\"최대값 위치:\", x.argmax())\n",
    "\n",
    "# 평균\n",
    "print(\"평균:\", x.mean())\n",
    "\n",
    "# 중앙값\n",
    "print(\"중앙값:\", np.median(x))"
   ]
  },
  {
   "cell_type": "code",
   "execution_count": 11,
   "metadata": {},
   "outputs": [
    {
     "name": "stdout",
     "output_type": "stream",
     "text": [
      "[[0 0 0 0]\n",
      " [0 0 0 0]\n",
      " [0 0 0 0]\n",
      " [0 0 0 0]]\n",
      "False\n",
      "True\n"
     ]
    }
   ],
   "source": [
    "# 논리 연산 - all, any\n",
    "a = np.zeros((4, 4), dtype=np.int)\n",
    "\n",
    "print(a)\n",
    "print(np.any(a != 0))\n",
    "print(np.all(a == a))"
   ]
  },
  {
   "cell_type": "code",
   "execution_count": 12,
   "metadata": {},
   "outputs": [
    {
     "name": "stdout",
     "output_type": "stream",
     "text": [
      "[[0 1]\n",
      " [2 3]]\n",
      "전체 합계: 6\n",
      "열 합계: [2 4]\n",
      "행 합계: [1 5]\n"
     ]
    }
   ],
   "source": [
    "# 2차원 배열 축소 연산\n",
    "x = np.arange(4).reshape(2,2)\n",
    "print(x)\n",
    "\n",
    "# 전체 원소 합계\n",
    "print(\"전체 합계:\", x.sum())\n",
    "\n",
    "# 열 합계\n",
    "print(\"열 합계:\", x.sum(axis=0))\n",
    "\n",
    "# 행 합계\n",
    "print(\"행 합계:\", x.sum(axis=1))"
   ]
  },
  {
   "cell_type": "markdown",
   "metadata": {},
   "source": [
    "# 연습문제 3.3.1\n",
    "실수로 이루어진 5 x 6 형태의 데이터 행렬을 만들고 이 데이터에 대해 다음과 같은 값을 구한다.\n",
    "\n",
    "1. 전체의 최댓값\n",
    "1. 각 행의 합\n",
    "1. 각 행의 최댓값\n",
    "1. 각 열의 평균\n",
    "1. 각 열의 최솟값"
   ]
  },
  {
   "cell_type": "code",
   "execution_count": 13,
   "metadata": {},
   "outputs": [
    {
     "name": "stdout",
     "output_type": "stream",
     "text": [
      "[[ 0  1  2  3  4  5]\n",
      " [ 6  7  8  9 10 11]\n",
      " [12 13 14 15 16 17]\n",
      " [18 19 20 21 22 23]\n",
      " [24 25 26 27 28 29]]\n",
      "1. 전체의 최댓값: 29\n",
      "2. 각 행의 합: [ 15  51  87 123 159]\n",
      "3. 각 행의 최댓값: [ 5 11 17 23 29]\n",
      "4. 각 열의 평균: [12. 13. 14. 15. 16. 17.]\n",
      "5. 각 열의 최솟값: [0 1 2 3 4 5]\n"
     ]
    }
   ],
   "source": [
    "x = np.arange(30).reshape(5,6)\n",
    "\n",
    "print(x)\n",
    "print(\"1. 전체의 최댓값:\", x.max())\n",
    "print(\"2. 각 행의 합:\", x.sum(1))\n",
    "print(\"3. 각 행의 최댓값:\", x.max(axis=1))\n",
    "print(\"4. 각 열의 평균:\", x.mean(0))\n",
    "print(\"5. 각 열의 최솟값:\", x.min(axis=0))"
   ]
  },
  {
   "cell_type": "markdown",
   "metadata": {},
   "source": [
    "# 정렬"
   ]
  },
  {
   "cell_type": "code",
   "execution_count": 14,
   "metadata": {},
   "outputs": [
    {
     "name": "stdout",
     "output_type": "stream",
     "text": [
      "[[ 3  4  5  7]\n",
      " [ 1  9 11 12]\n",
      " [ 1  2 14 15]]\n",
      "--------------------\n",
      "[[ 3  4  5  7]\n",
      " [ 1  9 11 12]\n",
      " [ 1  2 14 15]]\n",
      "--------------------\n",
      "[[ 1  3  1  7]\n",
      " [ 2 12  5  9]\n",
      " [ 4 15 11 14]]\n",
      "--------------------\n",
      "[[ 3  4  5  7]\n",
      " [ 1  9 11 12]\n",
      " [ 1  2 14 15]]\n"
     ]
    }
   ],
   "source": [
    "a = np.array([[4,  3,  5,  7],\n",
    "              [1, 12, 11,  9],\n",
    "              [2, 15,  1, 14]])\n",
    "\n",
    "# 디폴트 값은 axis = -1로 a x b x c이면 a기준 정렬\n",
    "print(np.sort(a))\n",
    "print(\"-\" * 20)\n",
    "\n",
    "# 행 정렬\n",
    "print(np.sort(a, axis=1))\n",
    "print(\"-\" * 20)\n",
    "\n",
    "# 열 정렬\n",
    "print(np.sort(a, axis=0))\n",
    "print(\"-\" * 20)\n",
    "\n",
    "# .sort로 정렬 시 배열이 변경된 채로 저장\n",
    "a.sort(axis=1)\n",
    "print(a)"
   ]
  },
  {
   "cell_type": "code",
   "execution_count": 15,
   "metadata": {},
   "outputs": [
    {
     "name": "stdout",
     "output_type": "stream",
     "text": [
      "[2 3 1 0]\n",
      "[12 25 38 42]\n"
     ]
    }
   ],
   "source": [
    "# 정렬시 순서만 알고 싶은 경우\n",
    "a = np.array([42, 38, 12, 25])\n",
    "j = np.argsort(a)\n",
    "\n",
    "print(j) # 기존 배열에서 정렬된 형태로 나오게 하기 위한 순서\n",
    "print(a[j])"
   ]
  },
  {
   "cell_type": "markdown",
   "metadata": {},
   "source": [
    "# 연습문제 3.3.2\n",
    "다음 배열은 첫번째 행(row)에 학번, 두번째 행에 영어 성적, 세번째 행에 수학 성적을 적은 배열이다. 영어 성적을 기준으로 각 열(column)을 재정렬하라.\n",
    "\n",
    "```\n",
    "array([[  1,    2,    3,    4],\n",
    "       [ 46,   99,  100,   71],\n",
    "       [ 81,   59,   90,  100]])\n",
    "```"
   ]
  },
  {
   "cell_type": "code",
   "execution_count": 16,
   "metadata": {},
   "outputs": [
    {
     "data": {
      "text/plain": [
       "array([[  1,   2,   3,   4],\n",
       "       [ 46,  59,  90,  71],\n",
       "       [ 81,  99, 100, 100]])"
      ]
     },
     "execution_count": 16,
     "metadata": {},
     "output_type": "execute_result"
    }
   ],
   "source": [
    "x = np.array([[  1,    2,    3,    4],\n",
    "              [ 46,   99,  100,   71],\n",
    "              [ 81,   59,   90,  100]])\n",
    "\n",
    "# 단순 열 정렬 하였음\n",
    "np.sort(x, axis=0)"
   ]
  }
 ],
 "metadata": {
  "kernelspec": {
   "display_name": "Python 3",
   "language": "python",
   "name": "python3"
  },
  "language_info": {
   "codemirror_mode": {
    "name": "ipython",
    "version": 3
   },
   "file_extension": ".py",
   "mimetype": "text/x-python",
   "name": "python",
   "nbconvert_exporter": "python",
   "pygments_lexer": "ipython3",
   "version": "3.8.5"
  }
 },
 "nbformat": 4,
 "nbformat_minor": 4
}
